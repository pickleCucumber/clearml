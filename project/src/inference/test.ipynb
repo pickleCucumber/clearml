{
 "cells": [
  {
   "cell_type": "code",
   "execution_count": 8,
   "metadata": {},
   "outputs": [],
   "source": [
    "import time\n",
    "\n",
    "import pandas as pd\n",
    "import requests\n",
    "\n",
    "from src.constants import USECOLS"
   ]
  },
  {
   "cell_type": "code",
   "execution_count": 3,
   "metadata": {},
   "outputs": [],
   "source": [
    "# Define the API endpoint URL\n",
    "url = \"http://65.21.196.14:8080/serve/neres_rf\"\n",
    "# url = \"http://65.21.196.14:8080/serve/neres_lgbm\""
   ]
  },
  {
   "cell_type": "code",
   "execution_count": 19,
   "metadata": {},
   "outputs": [],
   "source": [
    "X_oot = pd.read_csv(\n",
    "    \"../../data/raw/raw.csv\",\n",
    "    index_col=\"AppId\",\n",
    "    parse_dates=[\"dtstart\", \"birthday\"],\n",
    "    usecols=USECOLS,\n",
    ")"
   ]
  },
  {
   "cell_type": "code",
   "execution_count": 20,
   "metadata": {},
   "outputs": [],
   "source": [
    "column_types = X_oot.dtypes"
   ]
  },
  {
   "cell_type": "code",
   "execution_count": 21,
   "metadata": {},
   "outputs": [
    {
     "data": {
      "text/plain": [
       "{'dtstart': 'datetime64[ns]',\n",
       " 'sex': 'float64',\n",
       " 'birthday': 'datetime64[ns]',\n",
       " 'citizenshipid': 'int64',\n",
       " 'martialid': 'float64',\n",
       " 'dependents': 'int64',\n",
       " 'sitename': 'object',\n",
       " 'DOC': 'float64',\n",
       " 'averagemonthlyincome': 'int64',\n",
       " 'Days_since_last_credit': 'float64',\n",
       " 'Max_overdue': 'float64',\n",
       " 'Nb_delays_90plus_ever_eq': 'float64',\n",
       " 'CH_length_eq': 'float64',\n",
       " 'S_hare_active_credit': 'float64',\n",
       " 'Score': 'float64',\n",
       " 'MatchingLevel': 'float64',\n",
       " 'INTEGRALSCOREValueId': 'float64',\n",
       " 'LIFETIMEBINValueId': 'float64',\n",
       " '60_6mob': 'float64',\n",
       " 'requested_amount': 'float64'}"
      ]
     },
     "execution_count": 21,
     "metadata": {},
     "output_type": "execute_result"
    }
   ],
   "source": [
    "column_types_dict = X_oot.dtypes.apply(lambda x: x.name).to_dict()\n",
    "column_types_dict"
   ]
  },
  {
   "cell_type": "code",
   "execution_count": 31,
   "metadata": {},
   "outputs": [
    {
     "name": "stdout",
     "output_type": "stream",
     "text": [
      "{\"Probability\":0.5366730103907338,\"Result\":1,\"Threshold\":0.31148091786263643,\"Errors\":[]} 0.0\n"
     ]
    },
    {
     "name": "stdout",
     "output_type": "stream",
     "text": [
      "{\"Probability\":0.25659090175767585,\"Result\":0,\"Threshold\":0.31148091786263643,\"Errors\":[]} 0.0\n",
      "{\"Probability\":0.1365223385628456,\"Result\":0,\"Threshold\":0.31148091786263643,\"Errors\":[]} 0.0\n",
      "{\"Probability\":0.13418108334267803,\"Result\":0,\"Threshold\":0.31148091786263643,\"Errors\":[]} 0.0\n",
      "{\"Probability\":0.1570015235027022,\"Result\":0,\"Threshold\":0.31148091786263643,\"Errors\":[]} 0.0\n",
      "{\"Probability\":0.14310358868845466,\"Result\":0,\"Threshold\":0.31148091786263643,\"Errors\":[]} 19246.91\n",
      "{\"Probability\":0.22450568691673167,\"Result\":0,\"Threshold\":0.31148091786263643,\"Errors\":[]} 0.0\n",
      "{\"Probability\":0.1704604085625139,\"Result\":0,\"Threshold\":0.31148091786263643,\"Errors\":[]} 12917.74\n",
      "{\"Probability\":0.10892539880938439,\"Result\":0,\"Threshold\":0.31148091786263643,\"Errors\":[]} 0.0\n",
      "{\"Probability\":0.11982913609732279,\"Result\":0,\"Threshold\":0.31148091786263643,\"Errors\":[]} 0.0\n",
      "{\"Probability\":0.10768200271436283,\"Result\":0,\"Threshold\":0.31148091786263643,\"Errors\":[]} 0.0\n",
      "{\"Probability\":0.17983309192229763,\"Result\":0,\"Threshold\":0.31148091786263643,\"Errors\":[]} 0.0\n",
      "{\"Probability\":0.44524233117203477,\"Result\":1,\"Threshold\":0.31148091786263643,\"Errors\":[]} 11133.0\n",
      "{\"Probability\":0.10130080729810617,\"Result\":0,\"Threshold\":0.31148091786263643,\"Errors\":[]} 0.0\n",
      "{\"Probability\":0.10722483100708816,\"Result\":0,\"Threshold\":0.31148091786263643,\"Errors\":[]} 0.0\n",
      "{\"Probability\":0.16535113914255745,\"Result\":0,\"Threshold\":0.31148091786263643,\"Errors\":[]} 0.0\n",
      "{\"Probability\":0.17430603710558096,\"Result\":0,\"Threshold\":0.31148091786263643,\"Errors\":[]} 0.0\n"
     ]
    },
    {
     "ename": "KeyboardInterrupt",
     "evalue": "",
     "output_type": "error",
     "traceback": [
      "\u001b[0;31m---------------------------------------------------------------------------\u001b[0m",
      "\u001b[0;31mKeyboardInterrupt\u001b[0m                         Traceback (most recent call last)",
      "Cell \u001b[0;32mIn[31], line 20\u001b[0m\n\u001b[1;32m     16\u001b[0m payload \u001b[38;5;241m=\u001b[39m {\n\u001b[1;32m     17\u001b[0m     \u001b[38;5;124m\"\u001b[39m\u001b[38;5;124mrow\u001b[39m\u001b[38;5;124m\"\u001b[39m: row_json,\n\u001b[1;32m     18\u001b[0m }\n\u001b[1;32m     19\u001b[0m response \u001b[38;5;241m=\u001b[39m requests\u001b[38;5;241m.\u001b[39mpost(url, json\u001b[38;5;241m=\u001b[39mpayload)\n\u001b[0;32m---> 20\u001b[0m time\u001b[38;5;241m.\u001b[39msleep(\u001b[38;5;241m0.3\u001b[39m)\n\u001b[1;32m     22\u001b[0m \u001b[38;5;28mprint\u001b[39m(response\u001b[38;5;241m.\u001b[39mtext, row[\u001b[38;5;124m'\u001b[39m\u001b[38;5;124m60_6mob\u001b[39m\u001b[38;5;124m'\u001b[39m])\n",
      "\u001b[0;31mKeyboardInterrupt\u001b[0m: "
     ]
    }
   ],
   "source": [
    "import pandas as pd\n",
    "\n",
    "# Assuming X_oot is your DataFrame\n",
    "types = X_oot.dtypes.apply(lambda x: x.name).to_dict()\n",
    "\n",
    "while True:\n",
    "    for index, row in X_oot.sample(1000).iterrows():\n",
    "        # Process each row to convert timestamps to strings and replace NaNs\n",
    "        row_json = (\n",
    "            row.apply(lambda x: x.isoformat() if isinstance(x, pd.Timestamp) else x)\n",
    "            .where(pd.notnull(row), None)\n",
    "            .to_dict()\n",
    "        )\n",
    "\n",
    "        # Send the processed row as part of the payload\n",
    "        payload = {\n",
    "            \"row\": row_json,\n",
    "        }\n",
    "        response = requests.post(url, json=payload)\n",
    "        time.sleep(0.3)\n",
    "\n",
    "        print(response.text, row[\"60_6mob\"])"
   ]
  },
  {
   "cell_type": "code",
   "execution_count": 30,
   "metadata": {},
   "outputs": [
    {
     "data": {
      "text/plain": [
       "'{\"row\": {\"dtstart\": \"2023-02-10T07:17:00\", \"sex\": 1.0, \"birthday\": \"1979-07-01T00:00:00\", \"citizenshipid\": 398, \"martialid\": 2.0, \"dependents\": 0, \"sitename\": \"www.beeline.ru\", \"DOC\": 45.0, \"averagemonthlyincome\": 45000, \"Days_since_last_credit\": 0.0, \"Max_overdue\": 0.0, \"Nb_delays_90plus_ever_eq\": null, \"CH_length_eq\": null, \"S_hare_active_credit\": null, \"Score\": null, \"MatchingLevel\": null, \"INTEGRALSCOREValueId\": 0.197273, \"LIFETIMEBINValueId\": 1.0, \"60_6mob\": 0.0, \"requested_amount\": 9379.0}}'"
      ]
     },
     "execution_count": 30,
     "metadata": {},
     "output_type": "execute_result"
    }
   ],
   "source": [
    "import json\n",
    "\n",
    "json.dumps(payload)"
   ]
  },
  {
   "cell_type": "code",
   "execution_count": null,
   "metadata": {},
   "outputs": [],
   "source": []
  },
  {
   "cell_type": "code",
   "execution_count": null,
   "metadata": {},
   "outputs": [],
   "source": []
  }
 ],
 "metadata": {
  "kernelspec": {
   "display_name": ".venv",
   "language": "python",
   "name": "python3"
  },
  "language_info": {
   "codemirror_mode": {
    "name": "ipython",
    "version": 3
   },
   "file_extension": ".py",
   "mimetype": "text/x-python",
   "name": "python",
   "nbconvert_exporter": "python",
   "pygments_lexer": "ipython3",
   "version": "3.11.4"
  }
 },
 "nbformat": 4,
 "nbformat_minor": 2
}
